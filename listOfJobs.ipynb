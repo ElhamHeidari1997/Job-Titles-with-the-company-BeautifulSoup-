{
 "cells": [
  {
   "cell_type": "code",
   "execution_count": 6,
   "id": "695fdd37-f81b-4826-b92e-bb428ae1df61",
   "metadata": {},
   "outputs": [
    {
     "data": {
      "text/plain": [
       "<Response [200]>"
      ]
     },
     "execution_count": 6,
     "metadata": {},
     "output_type": "execute_result"
    }
   ],
   "source": [
    "import requests\n",
    "from bs4 import BeautifulSoup\n",
    "HEADERS = {'User-Agent': 'Mozilla/5.0 (iPad; CPU OS 12_2 like Mac OS X) AppleWebKit/605.1.15 (KHTML, like Gecko) Mobile/15E148'}\n",
    "#to avoid 403 http code\n",
    "page=requests.get(\"https://www.timesjobs.lk/Vacancy/showVacancies?location=Location&title=Job%20Title,%20Keywords,%20or%20Company&category=All%20Categories%20And%20Sub%20Categories&start=0&per_page=0\", headers=HEADERS)\n",
    "page"
   ]
  },
  {
   "cell_type": "code",
   "execution_count": 7,
   "id": "0f1e9e71-f322-48d8-8f19-93d0a667769e",
   "metadata": {},
   "outputs": [],
   "source": [
    "soup= BeautifulSoup(page.text , \"html.parser\")"
   ]
  },
  {
   "cell_type": "code",
   "execution_count": 19,
   "id": "eb58e597-b47a-4440-82e3-698ae238a6c4",
   "metadata": {},
   "outputs": [],
   "source": [
    "result=soup.find_all(\"div\",class_=\"careerfy-joblisting-text\")"
   ]
  },
  {
   "cell_type": "code",
   "execution_count": 33,
   "id": "82561a0a-eb4d-4a81-8668-622168cac942",
   "metadata": {},
   "outputs": [],
   "source": [
    "import xlsxwriter\n",
    "workbook = xlsxwriter.Workbook('listOfJobs.xlsx')\n",
    "worksheet = workbook.add_worksheet()\n",
    "row=0\n",
    "col=0\n",
    "for i in result:\n",
    "    Title=i.h2\n",
    "    company=i.li.a\n",
    "    worksheet.write(row,col,Title.text)\n",
    "    worksheet.write(row,col+1,company.text)\n",
    "    row+=1\n",
    "workbook.close()"
   ]
  },
  {
   "cell_type": "code",
   "execution_count": null,
   "id": "71fa2549-a4f3-4a1e-ae33-b872c0b9dab7",
   "metadata": {},
   "outputs": [],
   "source": []
  }
 ],
 "metadata": {
  "kernelspec": {
   "display_name": "Python 3 (ipykernel)",
   "language": "python",
   "name": "python3"
  },
  "language_info": {
   "codemirror_mode": {
    "name": "ipython",
    "version": 3
   },
   "file_extension": ".py",
   "mimetype": "text/x-python",
   "name": "python",
   "nbconvert_exporter": "python",
   "pygments_lexer": "ipython3",
   "version": "3.11.1"
  }
 },
 "nbformat": 4,
 "nbformat_minor": 5
}
